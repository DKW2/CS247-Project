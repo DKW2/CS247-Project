{
 "cells": [
  {
   "cell_type": "markdown",
   "id": "e675e482-af76-46ee-a7e6-093d070e1dbf",
   "metadata": {},
   "source": [
    "This notebook tested k-fold validation with GRU versus the default validation performance."
   ]
  },
  {
   "cell_type": "code",
   "execution_count": 2,
   "id": "b192f1ba-b0a7-475a-94e3-39d9b8f4c646",
   "metadata": {},
   "outputs": [
    {
     "name": "stdout",
     "output_type": "stream",
     "text": [
      "Testing 1:\n",
      "[2025-03-08 19:24:11,800][HYDRA] Submitit 'local' sweep output dir : logs/2025-03-08/19-24-11\n",
      "[2025-03-08 19:24:11,801][HYDRA] \t#0 : user=single_user_fold1 trainer.accelerator=gpu trainer.devices=1 +validate=False\n",
      "^C\n",
      "Traceback (most recent call last):\n",
      "  File \"/usr/lib/python3.10/runpy.py\", line 196, in _run_module_as_main\n",
      "    return _run_code(code, main_globals, None,\n",
      "  File \"/usr/lib/python3.10/runpy.py\", line 86, in _run_code\n",
      "    exec(code, run_globals)\n",
      "  File \"/home/fortemir/projects/emg2qwerty/emg2qwerty/train.py\", line 135, in <module>\n",
      "    main()\n",
      "  File \"/home/fortemir/.local/lib/python3.10/site-packages/hydra/main.py\", line 94, in decorated_main\n",
      "    _run_hydra(\n",
      "  File \"/home/fortemir/.local/lib/python3.10/site-packages/hydra/_internal/utils.py\", line 394, in _run_hydra\n",
      "    _run_app(\n",
      "  File \"/home/fortemir/.local/lib/python3.10/site-packages/hydra/_internal/utils.py\", line 465, in _run_app\n",
      "    run_and_report(\n",
      "  File \"/home/fortemir/.local/lib/python3.10/site-packages/hydra/_internal/utils.py\", line 220, in run_and_report\n",
      "    return func()\n",
      "  File \"/home/fortemir/.local/lib/python3.10/site-packages/hydra/_internal/utils.py\", line 466, in <lambda>\n",
      "    lambda: hydra.multirun(\n",
      "  File \"/home/fortemir/.local/lib/python3.10/site-packages/hydra/_internal/hydra.py\", line 162, in multirun\n",
      "    ret = sweeper.sweep(arguments=task_overrides)\n",
      "  File \"/home/fortemir/.local/lib/python3.10/site-packages/hydra/_internal/core_plugins/basic_sweeper.py\", line 177, in sweep\n",
      "    results = self.launcher.launch(batch, initial_job_idx=initial_job_idx)\n",
      "  File \"/home/fortemir/.local/lib/python3.10/site-packages/hydra_plugins/hydra_submitit_launcher/submitit_launcher.py\", line 146, in launch\n",
      "    return [j.results()[0] for j in jobs]\n",
      "  File \"/home/fortemir/.local/lib/python3.10/site-packages/hydra_plugins/hydra_submitit_launcher/submitit_launcher.py\", line 146, in <listcomp>\n",
      "    return [j.results()[0] for j in jobs]\n",
      "  File \"/home/fortemir/.local/lib/python3.10/site-packages/submitit/core/core.py\", line 284, in results\n",
      "    self.wait()\n",
      "  File \"/home/fortemir/.local/lib/python3.10/site-packages/submitit/core/core.py\", line 400, in wait\n",
      "    _time.sleep(1)\n",
      "KeyboardInterrupt\n",
      "Testing 2:\n",
      "[2025-03-08 19:48:08,264][HYDRA] Submitit 'local' sweep output dir : logs/2025-03-08/19-48-08\n",
      "[2025-03-08 19:48:08,265][HYDRA] \t#0 : user=single_user_fold2 trainer.accelerator=gpu trainer.devices=1 +validate=False\n",
      "Testing 3:\n",
      "^C\n",
      "Testing 4:\n",
      "[2025-03-08 19:49:37,419][HYDRA] Submitit 'local' sweep output dir : logs/2025-03-08/19-49-37\n",
      "[2025-03-08 19:49:37,420][HYDRA] \t#0 : user=single_user_fold4 trainer.accelerator=gpu trainer.devices=1 +validate=False\n"
     ]
    }
   ],
   "source": [
    "# We use 4-fold cross validation on the best model to see if the average CER is comparative to the CER we got originally\n",
    "# Using GRU best model since LSTM optimization wasn't finished before this began to run. Performance around the same, so\n",
    "for fold in [1, 2, 3, 4]:\n",
    "    print( f\"Testing {fold}:\" )\n",
    "    fold_config = f\"single_user_fold{fold}\"\n",
    "    !python3.10 -m emg2qwerty.train \\\n",
    "      user={fold_config} \\\n",
    "      trainer.accelerator=gpu trainer.devices=1 \\\n",
    "      +validate=False \\\n",
    "      --multirun"
   ]
  },
  {
   "cell_type": "code",
   "execution_count": 3,
   "id": "07248342-98a2-4e96-8d82-b0f48a875e48",
   "metadata": {},
   "outputs": [
    {
     "name": "stdout",
     "output_type": "stream",
     "text": [
      "4-Fold Cross Validation CER:  16.96\n"
     ]
    }
   ],
   "source": [
    "# Fold 1: 17.69\n",
    "# Fold 2: 15.83\n",
    "# Fold 3: 16.56\n",
    "# Fold 4: 17.76\n",
    "cross_fold = ( 17.69 + 15.83 + 16.56 + 17.76 ) / 4\n",
    "print( \"4-Fold Cross Validation CER: \", cross_fold )"
   ]
  },
  {
   "cell_type": "code",
   "execution_count": 4,
   "id": "558f17e1-5278-4e99-a7be-a71971f102fa",
   "metadata": {},
   "outputs": [
    {
     "name": "stdout",
     "output_type": "stream",
     "text": [
      "Original validation: 15.86\n"
     ]
    }
   ],
   "source": [
    "print( \"Original validation: 15.86\" )"
   ]
  },
  {
   "cell_type": "code",
   "execution_count": null,
   "id": "7e85c0f3-3726-43f8-9d94-921e474fcefb",
   "metadata": {},
   "outputs": [],
   "source": []
  }
 ],
 "metadata": {
  "kernelspec": {
   "display_name": "Python 3 (ipykernel)",
   "language": "python",
   "name": "python3"
  },
  "language_info": {
   "codemirror_mode": {
    "name": "ipython",
    "version": 3
   },
   "file_extension": ".py",
   "mimetype": "text/x-python",
   "name": "python",
   "nbconvert_exporter": "python",
   "pygments_lexer": "ipython3",
   "version": "3.10.12"
  }
 },
 "nbformat": 4,
 "nbformat_minor": 5
}
